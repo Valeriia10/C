{
 "cells": [
  {
   "cell_type": "code",
   "execution_count": 1,
   "id": "d53af051-a006-42a5-8f71-835f8520301a",
   "metadata": {},
   "outputs": [
    {
     "name": "stdout",
     "output_type": "stream",
     "text": [
      "Trapezoidal method: 0.897\n",
      "Check for the trapezoidal method = 0.89664\n"
     ]
    }
   ],
   "source": [
    "from scipy import integrate \n",
    "import numpy as np\n",
    "\n",
    "# Задаємо функцію, яку необхідно інтегрувати\n",
    "def f(x):\n",
    "    return 1/(np.sqrt(x) - 1)  # Виправлено функцію тут\n",
    "\n",
    "# Задаємо межі інтегрування та початкову кількість розбиттів\n",
    "a = 3.2\n",
    "b = 4\n",
    "n = 10\n",
    "\n",
    "# Обчислюємо значення інтегралу методом трапецій\n",
    "def trapezoidal_rule(f, a, b, n):\n",
    "    h = (b - a) / n\n",
    "    x = a\n",
    "    integral_sum = f(a) + f(b)  # Додаємо значення функції на початку і в кінці\n",
    "    for i in range(1, n):\n",
    "        x += h\n",
    "        integral_sum += 2 * f(x)\n",
    "    integral = h / 2 * integral_sum\n",
    "\n",
    "    return integral\n",
    "\n",
    "# Обчислюємо значення інтегралу методом трапецій з точністю 0.001\n",
    "# Перевірка точності за правилом Рунге\n",
    "integral1 = trapezoidal_rule(f, a, b, n)\n",
    "n *= 2\n",
    "integral2 = trapezoidal_rule(f, a, b, n)\n",
    "while abs(integral2 - integral1) / 3 > 0.001:\n",
    "    integral1 = integral2\n",
    "    n *= 2\n",
    "    integral2 = trapezoidal_rule(f, a, b, n)\n",
    "\n",
    "# Виводимо результат\n",
    "print(\"Trapezoidal method:\", round(integral2, 3))\n",
    "\n",
    "# Перевірка з використанням integrate.quad\n",
    "v, err = integrate.quad(f, a, b)\n",
    "print(\"Check for the trapezoidal method =\", round(v, 5))"
   ]
  },
  {
   "cell_type": "code",
   "execution_count": 2,
   "id": "d97b22bc-224e-4a52-a3cf-790a5882da04",
   "metadata": {},
   "outputs": [
    {
     "name": "stdout",
     "output_type": "stream",
     "text": [
      "Left rectangle: 0.3078\n",
      "Right rectangle: 0.29575\n",
      "Average rectangle: 0.30204\n",
      "Check for the rectangle method = 0.30195\n"
     ]
    }
   ],
   "source": [
    "from scipy import integrate \n",
    "import numpy as np\n",
    "\n",
    "eps = 0.001\n",
    "a = 1.2\n",
    "b = 2\n",
    "\n",
    "def f1(x): \n",
    "    return np.sin(x) / (x + 1)  # Виправлено функцію тут\n",
    "\n",
    "def left_rec(f1, a, b, n): \n",
    "    h = (b - a) / n \n",
    "    integral_sum = 0 \n",
    "    for i in range(0, n): \n",
    "        integral_sum += f1(a + i * h) \n",
    "    return integral_sum * h \n",
    "\n",
    "v, err = integrate.quad(f1, a, b)  # Перевірка\n",
    "\n",
    "# Перевірка точності за правилом Рунге:\n",
    "if abs(left_rec(f1, a, b, 2 * 8) - left_rec(f1, a, b, 8)) / 3. <= eps:\n",
    "    print(\"Left rectangle:\", round(left_rec(f1, a, b, 8), 5)) \n",
    "\n",
    "def right_rec(f1, a, b, n): \n",
    "    h = (b - a) / n \n",
    "    integral_sum = 0 \n",
    "    for i in range(1, n + 1): \n",
    "        integral_sum += f1(a + i * h) \n",
    "    return integral_sum * h \n",
    "\n",
    "print(\"Right rectangle:\", round(right_rec(f1, a, b, 8), 5)) \n",
    "def aver_rec(f1, a, b, n): \n",
    "    h = (b - a) / n \n",
    "    integral_sum = 0 \n",
    "    for i in range(0, n): \n",
    "        integral_sum += f1(a + i * h + h / 2)  # Додано h / 2\n",
    "    return integral_sum * h \n",
    "\n",
    "print(\"Average rectangle:\", round(aver_rec(f1, a, b, 8), 5)) \n",
    "\n",
    "print(\"Check for the rectangle method =\", round(v, 5))"
   ]
  },
  {
   "cell_type": "code",
   "execution_count": 4,
   "id": "fbb8d3bf-149b-42c9-b909-81bf40a50ecc",
   "metadata": {},
   "outputs": [
    {
     "name": "stdout",
     "output_type": "stream",
     "text": [
      "Simpson method: 0.464\n",
      "Check for the Simpson method = 0.464\n"
     ]
    }
   ],
   "source": [
    "from scipy import integrate \n",
    "import numpy as np\n",
    "\n",
    "# Задаємо функцію, яку необхідно інтегрувати\n",
    "def f(x):\n",
    "    return 1 / np.sqrt(0.5 * x**2 + 1) \n",
    "\n",
    "# Задаємо межі інтегрування та початкову кількість розбиттів\n",
    "a = 1.6\n",
    "b = 2.4\n",
    "n = 8\n",
    "\n",
    "# Обчислюємо значення інтегралу методом Сімпсона\n",
    "def simpson_rule(f, a, b, n):\n",
    "    h = (b - a) / n \n",
    "    integral = f(a) + f(b) \n",
    "    for i in range(1, n): \n",
    "        k = a + i * h \n",
    "        if i % 2 == 0: \n",
    "            integral += 2 * f(k) \n",
    "        else: \n",
    "            integral += 4 * f(k) \n",
    "    integral *= h / 3 \n",
    "    return integral \n",
    "\n",
    "# Обчислюємо значення інтегралу методом Сімпсона з точністю 0.001\n",
    "integral1 = simpson_rule(f, a, b, n)\n",
    "n *= 2\n",
    "integral2 = simpson_rule(f, a, b, n)\n",
    "while abs(integral2 - integral1) / 15 > 0.001:\n",
    "    integral1 = integral2\n",
    "    n *= 2\n",
    "    integral2 = simpson_rule(f, a, b, n)\n",
    "\n",
    "# Виводимо результат\n",
    "print(\"Simpson method:\", round(integral2, 3))\n",
    "\n",
    "v, err = integrate.quad(f, a, b)  # Перевірка \n",
    "print(\"Check for the Simpson method =\", round(v, 3))"
   ]
  },
  {
   "cell_type": "code",
   "execution_count": null,
   "id": "9cd4156a-7f80-443e-8269-dd685a7b2a28",
   "metadata": {},
   "outputs": [],
   "source": []
  }
 ],
 "metadata": {
  "kernelspec": {
   "display_name": "Python 3 (ipykernel)",
   "language": "python",
   "name": "python3"
  },
  "language_info": {
   "codemirror_mode": {
    "name": "ipython",
    "version": 3
   },
   "file_extension": ".py",
   "mimetype": "text/x-python",
   "name": "python",
   "nbconvert_exporter": "python",
   "pygments_lexer": "ipython3",
   "version": "3.11.0"
  }
 },
 "nbformat": 4,
 "nbformat_minor": 5
}
