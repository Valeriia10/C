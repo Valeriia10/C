{
 "cells": [
  {
   "cell_type": "code",
   "execution_count": 4,
   "id": "160cba92-fc6b-427d-a227-e771c341cdf8",
   "metadata": {
    "scrolled": true
   },
   "outputs": [
    {
     "name": "stdout",
     "output_type": "stream",
     "text": [
      "Відрізок 1:\n",
      "S_0(x) = 2.39 + 9.1317(x - 1.4) + 0.0(x - 1.4)^2 + -45.7925(x - 1.4)^3, x належить [1.4, 1.6]\n",
      "Відрізок 2:\n",
      "S_1(x) = 3.85 + 3.6366(x - 1.6) + -27.4755(x - 1.6)^2 + 28.6162(x - 1.6)^3, x належить [1.6, 2.0]\n",
      "Відрізок 3:\n",
      "S_2(x) = 2.74 + -4.608(x - 2.0) + 6.864(x - 2.0)^2 + -4.576(x - 2.0)^3, x належить [2.0, 2.5]\n",
      "Відрізок 4:\n",
      "S_3(x) = 1.58 + 0.0(x - 2.5) + 0.0(x - 2.5)^2 + 0.0(x - 2.5)^3, x належить [2.5, 3.1]\n"
     ]
    }
   ],
   "source": [
    "import numpy as np\n",
    "from scipy.interpolate import CubicSpline\n",
    "import matplotlib.pyplot as plt\n",
    "\n",
    "# Задані точки\n",
    "x = np.array([1.4, 1.6, 2, 2.5, 3.1])\n",
    "y = np.array([2.39, 3.85, 2.74, 1.58, 3.15])\n",
    "n = len(x) - 1\n",
    "h = np.diff(x)\n",
    "a = y\n",
    "b = np.zeros(n)\n",
    "d = np.zeros(n)\n",
    "c = np.zeros(n)\n",
    "alpha = np.zeros(n)\n",
    "\n",
    "for i in range(1, n):\n",
    "    alpha[i] = (3 / h[i]) * (a[i + 1] - a[i]) - (3 / h[i - 1]) * (a[i] - a[i - 1])\n",
    "\n",
    "l = np.ones(n)\n",
    "mu = np.zeros(n)\n",
    "z = np.zeros(n)\n",
    "\n",
    "for i in range(1, n):\n",
    "    l[i] = 2 * (x[i + 1] - x[i - 1]) - h[i - 1] * mu[i - 1]\n",
    "    mu[i] = h[i] / l[i]\n",
    "    z[i] = (alpha[i] - h[i - 1] * z[i - 1]) / l[i]\n",
    "\n",
    "c[n-1] = 0  # Виправлення обчислення коефіцієнтів для останнього відрізка\n",
    "b[n-1] = 0\n",
    "d[n-1] = 0\n",
    "\n",
    "for j in range(n - 2, -1, -1):\n",
    "    c[j] = z[j] - mu[j] * c[j+1]\n",
    "    b[j] = (a[j+1] - a[j]) / h[j] - h[j] * (c[j+1] + 2 * c[j]) / 3\n",
    "    d[j] = (c[j+1] - c[j]) / (3 * h[j])\n",
    "\n",
    "# Виведення аналітичного вигляду кубічного сплайна для кожного відрізка\n",
    "for i in range(n):\n",
    "    print(f\"Відрізок {i+1}:\")\n",
    "    print(f\"S_{i}(x) = {a[i]} + {b[i].round(4)}(x - {x[i]}) + {c[i].round(4)}(x - {x[i]})^2 + {d[i].round(4)}(x - {x[i]})^3, x належить [{x[i]}, {x[i+1]}]\")\n"
   ]
  },
  {
   "cell_type": "code",
   "execution_count": 4,
   "id": "ef374f30-03ba-4cd5-8039-cc60ba5af291",
   "metadata": {},
   "outputs": [
    {
     "name": "stdout",
     "output_type": "stream",
     "text": [
      "Відрізок 1:\n",
      "S_0(x) = 2.39 + 9.1317(x - 1.4) + 0.0(x - 1.4)^2 + -45.7925(x - 1.4)^3, x належить [1.4, 1.6]\n",
      "Відрізок 2:\n",
      "S_1(x) = 3.85 + 3.6366(x - 1.6) + -27.4755(x - 1.6)^2 + 28.6162(x - 1.6)^3, x належить [1.6, 2.0]\n",
      "Відрізок 3:\n",
      "S_2(x) = 2.74 + -4.608(x - 2.0) + 6.864(x - 2.0)^2 + -4.576(x - 2.0)^3, x належить [2.0, 2.5]\n",
      "Відрізок 4:\n",
      "S_3(x) = 1.58 + 0.0(x - 2.5) + 0.0(x - 2.5)^2 + 0.0(x - 2.5)^3, x належить [2.5, 3.1]\n"
     ]
    }
   ],
   "source": [
    "import numpy as np\n",
    "from scipy.interpolate import CubicSpline\n",
    "import matplotlib.pyplot as plt\n",
    "\n",
    "# Задані точки\n",
    "x = np.array([1.4, 1.6, 2, 2.5, 3.1])\n",
    "y = np.array([2.39, 3.85, 2.74, 1.58, 3.15])\n",
    "n = len(x) - 1\n",
    "h = np.diff(x)\n",
    "a = y\n",
    "b = np.zeros(n)\n",
    "d = np.zeros(n)\n",
    "c = np.zeros(n)\n",
    "alpha = np.zeros(n)\n",
    "\n",
    "for i in range(1, n):\n",
    "    alpha[i] = (3 / h[i]) * (a[i + 1] - a[i]) - (3 / h[i - 1]) * (a[i] - a[i - 1])\n",
    "\n",
    "l = np.ones(n)\n",
    "mu = np.zeros(n)\n",
    "z = np.zeros(n)\n",
    "\n",
    "for i in range(1, n):\n",
    "    l[i] = 2 * (x[i + 1] - x[i - 1]) - h[i - 1] * mu[i - 1]\n",
    "    mu[i] = h[i] / l[i]\n",
    "    z[i] = (alpha[i] - h[i - 1] * z[i - 1]) / l[i]\n",
    "\n",
    "c[n-1] = 0  # Виправлення обчислення коефіцієнтів для останнього відрізка\n",
    "b[n-1] = 0\n",
    "d[n-1] = 0\n",
    "\n",
    "for j in range(n - 2, -1, -1):\n",
    "    c[j] = z[j] - mu[j] * c[j+1]\n",
    "    b[j] = (a[j+1] - a[j]) / h[j] - h[j] * (c[j+1] + 2 * c[j]) / 3\n",
    "    d[j] = (c[j+1] - c[j]) / (3 * h[j])\n",
    "\n",
    "# Виведення аналітичного вигляду кубічного сплайна для кожного відрізка\n",
    "for i in range(n):\n",
    "    print(f\"Відрізок {i+1}:\")\n",
    "    print(f\"S_{i}(x) = {a[i]} + {b[i].round(4)}(x - {x[i]}) + {c[i].round(4)}(x - {x[i]})^2 + {d[i].round(4)}(x - {x[i]})^3, x належить [{x[i]}, {x[i+1]}]\")\n"
   ]
  },
  {
   "cell_type": "code",
   "execution_count": null,
   "id": "07a7b376-4250-44ee-bd3c-5b749c8bb902",
   "metadata": {},
   "outputs": [],
   "source": [
    "# Побудова кубічного сплайна\n",
    "cs = CubicSpline(x, y)\n",
    "# Генерація нових точок для гладкого графіку сплайна\n",
    "x_new = np.linspace(np.min(x), np.max(x), 100)\n",
    "y_new = cs(x_new)\n",
    "# Роздрукуйте значення сплайна\n",
    "print(\"Значення сплайна:\")\n",
    "for i in range(len(x_new)):\n",
    " print(f\"x = {x_new[i]:.2f}, y = {y_new[i]:.3f}\")\n",
    "# Побудова графіку\n",
    "plt.figure(figsize=(8, 6))\n",
    "plt.plot(x, y, 'o', label='Точки')\n",
    "plt.plot(x_new, y_new, label='Кубічний сплайн')\n",
    "plt.xlabel('x')\n",
    "plt.ylabel('y')\n",
    "plt.title('Кубічний сплайн')\n",
    "plt.legend()\n",
    "plt.grid(True)\n",
    "plt.show()"
   ]
  },
  {
   "cell_type": "code",
   "execution_count": null,
   "id": "55450e2c-d31b-40c4-95af-778e8efb3f73",
   "metadata": {},
   "outputs": [],
   "source": []
  }
 ],
 "metadata": {
  "kernelspec": {
   "display_name": "Python 3 (ipykernel)",
   "language": "python",
   "name": "python3"
  },
  "language_info": {
   "codemirror_mode": {
    "name": "ipython",
    "version": 3
   },
   "file_extension": ".py",
   "mimetype": "text/x-python",
   "name": "python",
   "nbconvert_exporter": "python",
   "pygments_lexer": "ipython3",
   "version": "3.11.0"
  }
 },
 "nbformat": 4,
 "nbformat_minor": 5
}
