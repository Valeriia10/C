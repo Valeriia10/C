{
 "cells": [
  {
   "cell_type": "code",
   "execution_count": 9,
   "id": "e25e0608-45a6-49d1-b35a-758747438873",
   "metadata": {},
   "outputs": [
    {
     "name": "stdout",
     "output_type": "stream",
     "text": [
      "Matrix C = AB - BA:\n",
      "[[ 4 -2]\n",
      " [ 4 -4]]\n"
     ]
    }
   ],
   "source": [
    "import numpy as np\n",
    "\n",
    "# Define matrices A and B\n",
    "A = np.array([[-1, 2], [4, -1]])\n",
    "B = np.array([[2, -3], [-4, 1]])\n",
    "\n",
    "# Calculate the products AB and BA\n",
    "AB = np.dot(A, B)\n",
    "BA = np.dot(B, A)\n",
    "\n",
    "# Find C = AB - BA\n",
    "C = AB - BA\n",
    "\n",
    "print(\"Matrix C = AB - BA:\")\n",
    "print(C)\n"
   ]
  },
  {
   "cell_type": "code",
   "execution_count": 12,
   "id": "b46ccf73-8934-4aa6-9e03-7f97c1ae296b",
   "metadata": {},
   "outputs": [
    {
     "name": "stdout",
     "output_type": "stream",
     "text": [
      "Matrix A^2:\n",
      "[[1 0]\n",
      " [0 1]]\n"
     ]
    }
   ],
   "source": [
    "import numpy as np\n",
    "\n",
    "# Define the matrix A\n",
    "A = np.array([[-1, -2], [0, 1]])\n",
    "\n",
    "# Exponentiate matrix A (for example, let's calculate A^2)\n",
    "n = 2\n",
    "result = np.linalg.matrix_power(A, n)\n",
    "\n",
    "print(f\"Matrix A^2:\")\n",
    "print(result)\n"
   ]
  },
  {
   "cell_type": "code",
   "execution_count": 1,
   "id": "665a63b5-6d1a-4b3a-898d-e59ed32c03a2",
   "metadata": {},
   "outputs": [
    {
     "name": "stdout",
     "output_type": "stream",
     "text": [
      "Matrix A:\n",
      "[[ 3  5]\n",
      " [ 6 -1]]\n",
      "Matrix B:\n",
      "[[ 2  1]\n",
      " [-3  2]]\n",
      "Product of matrices A and B:\n",
      "[[-9 13]\n",
      " [15  4]]\n"
     ]
    }
   ],
   "source": [
    "import numpy as np\n",
    "\n",
    "# Define matrices A and B\n",
    "A = np.array([[3, 5], [6, -1]])\n",
    "B = np.array([[2, 1], [-3, 2]])\n",
    "\n",
    "# Calculate the product of A and B\n",
    "product = np.dot(A, B)\n",
    "\n",
    "print(\"Matrix A:\")\n",
    "print(A)\n",
    "\n",
    "print(\"Matrix B:\")\n",
    "print(B)\n",
    "\n",
    "print(\"Product of matrices A and B:\")\n",
    "print(product)\n"
   ]
  },
  {
   "cell_type": "code",
   "execution_count": 2,
   "id": "5ec8bea3-8950-4b69-91fa-7f6f1747a2c8",
   "metadata": {
    "scrolled": true
   },
   "outputs": [
    {
     "name": "stdout",
     "output_type": "stream",
     "text": [
      "Matrix:\n",
      "[[2 3 4]\n",
      " [1 0 6]\n",
      " [7 8 9]]\n",
      "Determinant:\n",
      "35.00000000000001\n"
     ]
    }
   ],
   "source": [
    "import numpy as np\n",
    "\n",
    "# Define the matrix\n",
    "matrix = np.array([[2, 3, 4], [1, 0, 6], [7, 8, 9]])\n",
    "\n",
    "# Calculate the determinant\n",
    "determinant = np.linalg.det(matrix)\n",
    "\n",
    "print(\"Matrix:\")\n",
    "print(matrix)\n",
    "\n",
    "print(\"Determinant:\")\n",
    "print(determinant)\n"
   ]
  },
  {
   "cell_type": "code",
   "execution_count": 4,
   "id": "ad766082-6492-449d-81eb-ad0cd566c740",
   "metadata": {},
   "outputs": [
    {
     "name": "stdout",
     "output_type": "stream",
     "text": [
      "Matrix:\n",
      "[[2 3 4 1]\n",
      " [1 2 3 4]\n",
      " [3 4 1 2]\n",
      " [4 1 2 3]]\n",
      "Determinant:\n",
      "-160.00000000000009\n"
     ]
    }
   ],
   "source": [
    "import numpy as np\n",
    "\n",
    "# Define the 4x4 matrix\n",
    "matrix = np.array([[2, 3, 4, 1], [1, 2, 3, 4], [3, 4, 1, 2], [4, 1, 2, 3]])\n",
    "\n",
    "# Calculate the determinant\n",
    "determinant = np.linalg.det(matrix)\n",
    "\n",
    "print(\"Matrix:\")\n",
    "print(matrix)\n",
    "\n",
    "print(\"Determinant:\")\n",
    "print(determinant)\n"
   ]
  },
  {
   "cell_type": "code",
   "execution_count": 5,
   "id": "d32758e6-db42-4338-bcd0-c22738233415",
   "metadata": {},
   "outputs": [
    {
     "name": "stdout",
     "output_type": "stream",
     "text": [
      "Matrix:\n",
      "[[ 1  2 -3]\n",
      " [ 0  1  2]\n",
      " [ 0  0  1]]\n",
      "Inverse Matrix:\n",
      "[[ 1. -2.  7.]\n",
      " [ 0.  1. -2.]\n",
      " [ 0.  0.  1.]]\n"
     ]
    }
   ],
   "source": [
    "import numpy as np\n",
    "\n",
    "# Define the matrix\n",
    "matrix = np.array([[1, 2, -3], [0, 1, 2], [0, 0, 1]])\n",
    "\n",
    "# Calculate the inverse matrix\n",
    "inverse_matrix = np.linalg.inv(matrix)\n",
    "\n",
    "print(\"Matrix:\")\n",
    "print(matrix)\n",
    "\n",
    "print(\"Inverse Matrix:\")\n",
    "print(inverse_matrix)\n"
   ]
  },
  {
   "cell_type": "code",
   "execution_count": 6,
   "id": "6e4cf7f5-80cd-42c6-9faa-5ac773e55322",
   "metadata": {},
   "outputs": [
    {
     "name": "stdout",
     "output_type": "stream",
     "text": [
      "Matrix:\n",
      "[[ 1  2  3  4]\n",
      " [ 3 -1  2  5]\n",
      " [ 1  2  3  4]\n",
      " [ 1  3  4  5]]\n",
      "Rank of the matrix: 2\n"
     ]
    }
   ],
   "source": [
    "import numpy as np\n",
    "\n",
    "# Define the matrix\n",
    "matrix = np.array([[1, 2, 3, 4], [3, -1, 2, 5], [1, 2, 3, 4], [1, 3, 4, 5]])\n",
    "\n",
    "# Calculate the rank of the matrix\n",
    "rank = np.linalg.matrix_rank(matrix)\n",
    "\n",
    "print(\"Matrix:\")\n",
    "print(matrix)\n",
    "\n",
    "print(\"Rank of the matrix:\", rank)\n"
   ]
  },
  {
   "cell_type": "code",
   "execution_count": 7,
   "id": "7407fb10-1f70-48d7-8297-50a0181fa12e",
   "metadata": {},
   "outputs": [
    {
     "name": "stdout",
     "output_type": "stream",
     "text": [
      "Using Kramer's method:\n",
      "x = 1.0, y = 7.771561172376072e-16, z = 3.0\n",
      "Using numpy.linalg.solve():\n",
      "x = 1.0\n",
      "y = -2.7328566760003855e-16\n",
      "z = 2.9999999999999996\n"
     ]
    }
   ],
   "source": [
    "import numpy as np\n",
    "\n",
    "# Define the coefficient matrix A and the constant vector B\n",
    "A = np.array([[2, -1, 1],\n",
    "              [3, 4, -2],\n",
    "              [1, -3, 1]])\n",
    "\n",
    "B = np.array([5, -3, 4])\n",
    "\n",
    "# Calculate the determinant of A\n",
    "det_A = np.linalg.det(A)\n",
    "\n",
    "# Check if the determinant is close to zero (singular matrix)\n",
    "if abs(det_A) < 1e-10:\n",
    "    print(\"The matrix A is singular. The system may have no solution or infinitely many solutions.\")\n",
    "else:\n",
    "    # Create a copy of A and replace columns with B\n",
    "    A1 = A.copy()\n",
    "    A1[:, 0] = B\n",
    "\n",
    "    A2 = A.copy()\n",
    "    A2[:, 1] = B\n",
    "\n",
    "    A3 = A.copy()\n",
    "    A3[:, 2] = B\n",
    "\n",
    "    # Calculate the solutions using the Kramer method\n",
    "    x = np.linalg.det(A1) / det_A\n",
    "    y = np.linalg.det(A2) / det_A\n",
    "    z = np.linalg.det(A3) / det_A\n",
    "\n",
    "    print(\"Using Kramer's method:\")\n",
    "    print(f\"x = {x}, y = {y}, z = {z}\")\n",
    "\n",
    "    # Verify the solution using the solve() function\n",
    "    solution = np.linalg.solve(A, B)\n",
    "    print(\"Using numpy.linalg.solve():\")\n",
    "    print(\"x =\", solution[0])\n",
    "    print(\"y =\", solution[1])\n",
    "    print(\"z =\", solution[2])\n"
   ]
  },
  {
   "cell_type": "code",
   "execution_count": 8,
   "id": "8a8f7fb2-b173-438f-9ace-4e42b8f371dd",
   "metadata": {},
   "outputs": [
    {
     "name": "stdout",
     "output_type": "stream",
     "text": [
      "Matrix A:\n",
      "[[0.35398664 0.11996353 0.26167388 0.27178285]\n",
      " [0.78585243 0.20146362 0.82451034 0.60490936]\n",
      " [0.54024286 0.87108684 0.67014242 0.16873901]\n",
      " [0.67372055 0.80234251 0.71349221 0.37034445]\n",
      " [0.61451867 0.35970825 0.94217003 0.82538429]]\n",
      "Sum of absolute values for each column:\n",
      "[2.96832115 2.35456475 3.41198888 2.24115995]\n",
      "Column with the smallest minimum absolute element and the largest sum: Column 3\n",
      "Minimum absolute element in this column: 0.2616738813691668\n"
     ]
    }
   ],
   "source": [
    "import numpy as np\n",
    "\n",
    "# Define the dimensions of the matrix\n",
    "N = 5  # Number of rows\n",
    "M = 4  # Number of columns\n",
    "\n",
    "# Create a random matrix A with N rows and M columns\n",
    "A = np.random.rand(N, M)\n",
    "\n",
    "# Calculate the sum of absolute values for each column\n",
    "column_sums = np.sum(np.abs(A), axis=0)\n",
    "\n",
    "# Find the column with the smallest minimum absolute element\n",
    "min_abs_elements = np.min(np.abs(A), axis=0)\n",
    "max_sum_column = np.argmax(column_sums)\n",
    "\n",
    "print(\"Matrix A:\")\n",
    "print(A)\n",
    "\n",
    "print(\"Sum of absolute values for each column:\")\n",
    "print(column_sums)\n",
    "\n",
    "print(f\"Column with the smallest minimum absolute element and the largest sum: Column {max_sum_column + 1}\")\n",
    "print(f\"Minimum absolute element in this column: {min_abs_elements[max_sum_column]}\")\n"
   ]
  },
  {
   "cell_type": "code",
   "execution_count": null,
   "id": "c8f1a14c-0320-4158-a5f7-ee0cee4bfd2b",
   "metadata": {},
   "outputs": [],
   "source": []
  }
 ],
 "metadata": {
  "kernelspec": {
   "display_name": "Python 3 (ipykernel)",
   "language": "python",
   "name": "python3"
  },
  "language_info": {
   "codemirror_mode": {
    "name": "ipython",
    "version": 3
   },
   "file_extension": ".py",
   "mimetype": "text/x-python",
   "name": "python",
   "nbconvert_exporter": "python",
   "pygments_lexer": "ipython3",
   "version": "3.11.0"
  }
 },
 "nbformat": 4,
 "nbformat_minor": 5
}
